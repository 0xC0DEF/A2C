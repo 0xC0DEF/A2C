{
 "metadata": {
  "language_info": {
   "codemirror_mode": {
    "name": "ipython",
    "version": 3
   },
   "file_extension": ".py",
   "mimetype": "text/x-python",
   "name": "python",
   "nbconvert_exporter": "python",
   "pygments_lexer": "ipython3",
   "version": "3.8.5"
  },
  "orig_nbformat": 2,
  "kernelspec": {
   "name": "python3",
   "display_name": "Python 3.8.5 64-bit",
   "metadata": {
    "interpreter": {
     "hash": "31f2aee4e71d21fbe5cf8b01ff0e069b9275f58929596ceb00d14d90e3e16cd6"
    }
   }
  }
 },
 "nbformat": 4,
 "nbformat_minor": 2,
 "cells": [
  {
   "cell_type": "code",
   "execution_count": 5,
   "metadata": {},
   "outputs": [],
   "source": [
    "import random\n",
    "import time\n",
    "import copy\n",
    "from collections import deque\n",
    "\n",
    "import numpy as np\n",
    "\n",
    "import torch as tc\n",
    "import torch.nn as nn\n",
    "import torch.optim as opt\n",
    "import torch.distributions as tcdist\n",
    "import torch.nn.functional as F\n",
    "\n",
    "from model import SnakeNet\n",
    "from core import CUDA_AVAILABLE, DEVICE\n",
    "from config import NROW,NCOL\n",
    "from env import Env\n",
    "from util import state2input"
   ]
  },
  {
   "cell_type": "code",
   "execution_count": 6,
   "metadata": {},
   "outputs": [],
   "source": [
    "#Train Parameters\n",
    "\n",
    "BATCH_SIZE = 32\n",
    "DISC_RATIO=0.99\n",
    "GRADCLIP_NORM=1\n",
    "L2_DECAY=1e-6\n",
    "LEARNING_RATE=1e-5\n",
    "STAT_DISPLAY_FREQ = 50\n",
    "SAVE_TEMP_FREQ = 300\n",
    "TRAIN_CNT=10000"
   ]
  },
  {
   "cell_type": "code",
   "execution_count": 7,
   "metadata": {},
   "outputs": [],
   "source": [
    "import time as timelib\n",
    "from PIL import Image\n",
    "from PIL import ImageDraw\n",
    "from torchvision import transforms\n",
    "import matplotlib.pyplot as plt\n",
    "from IPython import display\n",
    "def render(state,sleep_time=0,clear=True):\n",
    "    #print(obs)\n",
    "    txt = Image.new(\"RGBA\", (NCOL*30,NROW*30), (10,50,100,100))\n",
    "    draw = ImageDraw.Draw(txt)\n",
    "    grid_size = 30\n",
    "    for i in range(NROW):\n",
    "        for j in range(NCOL):\n",
    "            y1 = i*grid_size\n",
    "            x1 = j*grid_size\n",
    "            y2 = (i+1)*grid_size\n",
    "            x2 = (j+1)*grid_size\n",
    "            draw.rectangle(((x1, y1), (x2, y2)), outline='black', width=1)\n",
    "    for y,x in state['foods']:\n",
    "        draw.ellipse((x*grid_size, y*grid_size, (x+1)*grid_size, (y+1)*grid_size), fill = 'yellow', outline ='yellow')\n",
    "    for y,x in state['snake']:\n",
    "        if (y,x)==state['snake'][-1]:\n",
    "            draw.polygon([((x+1/2)*grid_size,y*grid_size),(x*grid_size,(y+1/2)*grid_size),\n",
    "                ((x+1/2)*grid_size,(y+1)*grid_size), ((x+1)*grid_size,(y+1/2)*grid_size)], fill = 'red')\n",
    "        else:\n",
    "            draw.rectangle(((x*grid_size, y*grid_size), ((x+1)*grid_size, (y+1)*grid_size)), fill='red', outline='red')\n",
    "    txt = txt.resize((64, 64*NROW//NCOL)).convert('RGB')\n",
    "    numpy_image = np.array(txt)\n",
    "    plt.axis(\"off\")\n",
    "    trans1 = transforms.ToTensor()\n",
    "    tensor_image = trans1(numpy_image)\n",
    "    tf = transforms.ToPILImage()\n",
    "    plt.imshow(tf(tensor_image))\n",
    "    plt.show()\n",
    "    plt.close()\n",
    "    if sleep_time:\n",
    "        timelib.sleep(sleep_time)\n",
    "    if clear:\n",
    "        display.clear_output(wait=True)\n",
    "    return tensor_image"
   ]
  },
  {
   "cell_type": "code",
   "execution_count": 8,
   "metadata": {
    "tags": []
   },
   "outputs": [
    {
     "output_type": "stream",
     "name": "stdout",
     "text": [
      "#9900 (99.00%): LossAvg=-10.279, MaxprobAvg=0.947, ScoreMax=26.33, ScoreAvg=23.07, ScoreMed=22.01, ScoreMin=21.73\n",
      "#9950 (99.50%): LossAvg=-14.578, MaxprobAvg=0.937, ScoreMax=29.33, ScoreAvg=22.15, ScoreMed=21.79, ScoreMin=15.20\n",
      "#10000 (100.00%): LossAvg=-11.567, MaxprobAvg=0.935, ScoreMax=27.33, ScoreAvg=21.66, ScoreMed=22.87, ScoreMin=8.59\n",
      "DONE!!!\n"
     ]
    }
   ],
   "source": [
    "print(\"CUDA: \",CUDA_AVAILABLE)\n",
    "net=SnakeNet().cuda() if CUDA_AVAILABLE else SnakeNet()\n",
    "net.train()\n",
    "\n",
    "opter=opt.Adam(net.parameters(),lr=LEARNING_RATE,weight_decay=L2_DECAY)\n",
    "losses = []\n",
    "scores = []\n",
    "probmaxs = []\n",
    "\n",
    "def train(bat):\n",
    "    s1bat=tc.tensor([state2input(s1) for (s1,a,r,s2) in bat]).to(DEVICE)\n",
    "    abat=tc.tensor([a for (s1,a,r,s2) in bat]).to(DEVICE)\n",
    "    rbat=tc.tensor([r for (s1,a,r,s2) in bat]).to(DEVICE)\n",
    "    s2bat=tc.tensor([state2input(s2) for (s1,a,r,s2) in bat]).to(DEVICE)\n",
    "    dbat=tc.tensor([int(s2['done']) for (s1,a,r,s2) in bat]).to(DEVICE)\n",
    "\n",
    "    td_target=rbat+DISC_RATIO*((1-dbat)*net.calcval(s2bat).squeeze())\n",
    "    delta=td_target-net.calcval(s1bat).squeeze()\n",
    "\n",
    "    polraw = net.calcpol(s1bat)\n",
    "    pol_a = F.softmax(polraw,dim=1).gather(1,abat.unsqueeze(dim=1)).squeeze()\n",
    "    loss_val = ((net.calcval(s1bat).squeeze()-td_target.detach())**2).sum()\n",
    "    loss_pol = (-tc.log(pol_a) * delta.detach()).sum()\n",
    "    loss_entropy = (F.log_softmax(polraw,dim=1)*F.softmax(polraw,dim=1)).sum()\n",
    "    loss = loss_pol + 0.5*loss_val + 0.01*loss_entropy\n",
    "\n",
    "    opter.zero_grad()\n",
    "    loss.backward()\n",
    "    nn.utils.clip_grad_norm_(net.parameters(),GRADCLIP_NORM)\n",
    "    opter.step()\n",
    "    \n",
    "    losses.append(float(loss.mean()))\n",
    "\n",
    "envs = [Env(True) for _ in range(BATCH_SIZE)]\n",
    "for traini in range(1,TRAIN_CNT+1):\n",
    "    batch = []\n",
    "    for env in envs:\n",
    "        s1=env.state\n",
    "        if not s1 or s1['done']:\n",
    "            scores.append(env.score)\n",
    "            s1=env.reset()\n",
    "        # if env==envs[0]:\n",
    "        #     print(env.score)\n",
    "        #     render(s1,0,True)\n",
    "        pol = F.softmax(net.calcpol(tc.tensor(state2input(s1)).to(DEVICE)),dim=1)\n",
    "        probmaxs.append(float(tc.max(pol)))\n",
    "        a = tcdist.Categorical(pol).sample().item()\n",
    "        s2,rwd=env.step(a)\n",
    "        batch.append((s1,a,rwd,s2))\n",
    "    train(batch)\n",
    "    if traini%SAVE_TEMP_FREQ==0:\n",
    "        tc.save(net.state_dict(),'./netw.pt')\n",
    "        display.clear_output(wait=True)\n",
    "    if traini%STAT_DISPLAY_FREQ==0:\n",
    "        print(\"#{} ({:.2f}%): LossAvg={:.3f}, MaxprobAvg={:.3f}, ScoreMax={:.2f}, ScoreAvg={:.2f}, ScoreMed={:.2f}, ScoreMin={:.2f}\".format(\n",
    "            traini,\n",
    "            traini/TRAIN_CNT*100,\n",
    "            sum(losses)/len(losses) if losses else -1,\n",
    "            sum(probmaxs)/len(probmaxs) if probmaxs else -1,\n",
    "            max(scores) if scores else -1,\n",
    "            sum(scores)/len(scores) if scores else -1,\n",
    "            sorted(scores)[len(scores)//2] if scores else -1,\n",
    "            sorted(scores)[0] if scores else -1))\n",
    "        losses=[]\n",
    "        probmaxs=[]\n",
    "        scores=[]\n",
    "#save\n",
    "tc.save(net.state_dict(),'./netw.pt')\n",
    "print(\"DONE!!!\")"
   ]
  },
  {
   "cell_type": "code",
   "execution_count": 9,
   "metadata": {
    "tags": []
   },
   "outputs": [
    {
     "output_type": "stream",
     "name": "stdout",
     "text": [
      "> \u001b[0;32m/home/loboprix/.local/lib/python3.8/site-packages/torch/nn/functional.py\u001b[0m(4435)\u001b[0;36m_pad_circular\u001b[0;34m()\u001b[0m\n\u001b[0;32m   4433 \u001b[0;31m        \u001b[0min_h1\u001b[0m \u001b[0;34m=\u001b[0m \u001b[0min_shape\u001b[0m\u001b[0;34m[\u001b[0m\u001b[0;36m3\u001b[0m\u001b[0;34m]\u001b[0m \u001b[0;34m-\u001b[0m \u001b[0mmax\u001b[0m\u001b[0;34m(\u001b[0m\u001b[0;34m-\u001b[0m\u001b[0mpadding\u001b[0m\u001b[0;34m[\u001b[0m\u001b[0;34m-\u001b[0m\u001b[0;36m3\u001b[0m\u001b[0;34m]\u001b[0m\u001b[0;34m,\u001b[0m \u001b[0;36m0\u001b[0m\u001b[0;34m)\u001b[0m\u001b[0;34m\u001b[0m\u001b[0;34m\u001b[0m\u001b[0m\n\u001b[0m\u001b[0;32m   4434 \u001b[0;31m\u001b[0;34m\u001b[0m\u001b[0m\n\u001b[0m\u001b[0;32m-> 4435 \u001b[0;31m        \u001b[0mout\u001b[0m\u001b[0;34m[\u001b[0m\u001b[0;34m...\u001b[0m\u001b[0;34m,\u001b[0m \u001b[0mout_d0\u001b[0m\u001b[0;34m:\u001b[0m\u001b[0mout_d1\u001b[0m\u001b[0;34m,\u001b[0m \u001b[0mout_h0\u001b[0m\u001b[0;34m:\u001b[0m\u001b[0mout_h1\u001b[0m\u001b[0;34m]\u001b[0m \u001b[0;34m=\u001b[0m \u001b[0minput\u001b[0m\u001b[0;34m[\u001b[0m\u001b[0;34m...\u001b[0m\u001b[0;34m,\u001b[0m \u001b[0min_d0\u001b[0m\u001b[0;34m:\u001b[0m\u001b[0min_d1\u001b[0m\u001b[0;34m,\u001b[0m \u001b[0min_h0\u001b[0m\u001b[0;34m:\u001b[0m\u001b[0min_h1\u001b[0m\u001b[0;34m]\u001b[0m\u001b[0;34m\u001b[0m\u001b[0;34m\u001b[0m\u001b[0m\n\u001b[0m\u001b[0;32m   4436 \u001b[0;31m    \u001b[0;32melif\u001b[0m \u001b[0mndim\u001b[0m \u001b[0;34m==\u001b[0m \u001b[0;36m3\u001b[0m\u001b[0;34m:\u001b[0m\u001b[0;34m\u001b[0m\u001b[0;34m\u001b[0m\u001b[0m\n\u001b[0m\u001b[0;32m   4437 \u001b[0;31m        \u001b[0mout_d0\u001b[0m \u001b[0;34m=\u001b[0m \u001b[0mmax\u001b[0m\u001b[0;34m(\u001b[0m\u001b[0mpadding\u001b[0m\u001b[0;34m[\u001b[0m\u001b[0;34m-\u001b[0m\u001b[0;36m2\u001b[0m\u001b[0;34m]\u001b[0m\u001b[0;34m,\u001b[0m \u001b[0;36m0\u001b[0m\u001b[0;34m)\u001b[0m\u001b[0;34m\u001b[0m\u001b[0;34m\u001b[0m\u001b[0m\n\u001b[0m\n"
     ]
    }
   ],
   "source": [
    "%debug"
   ]
  },
  {
   "cell_type": "code",
   "execution_count": 10,
   "metadata": {},
   "outputs": [
    {
     "output_type": "error",
     "ename": "SyntaxError",
     "evalue": "invalid syntax (<ipython-input-10-70b6e365df8e>, line 1)",
     "traceback": [
      "\u001b[0;36m  File \u001b[0;32m\"<ipython-input-10-70b6e365df8e>\"\u001b[0;36m, line \u001b[0;32m1\u001b[0m\n\u001b[0;31m    score표시 max mean median min 추가\u001b[0m\n\u001b[0m            ^\u001b[0m\n\u001b[0;31mSyntaxError\u001b[0m\u001b[0;31m:\u001b[0m invalid syntax\n"
     ]
    }
   ],
   "source": []
  }
 ]
}